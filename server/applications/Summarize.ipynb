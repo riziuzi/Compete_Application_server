{
 "cells": [
  {
   "cell_type": "code",
   "execution_count": 4,
   "metadata": {},
   "outputs": [],
   "source": [
    "model_name = \"snrspeaks/t5-one-line-summary\"\n",
    "\n",
    "from transformers import AutoModelForSeq2SeqLM, AutoTokenizer\n",
    "\n",
    "model = AutoModelForSeq2SeqLM.from_pretrained(model_name)\n",
    "tokenizer = AutoTokenizer.from_pretrained(model_name)"
   ]
  },
  {
   "cell_type": "code",
   "execution_count": 5,
   "metadata": {},
   "outputs": [],
   "source": [
    "def Summarize(abstract = \"\"\"We describe a system called Overton, whose main design goal is to \n",
    "support engineers in building, monitoring, and improving production machine learning systems. \n",
    "Key challenges engineers face are monitoring fine-grained quality, diagnosing errors in \n",
    "sophisticated applications, and handling contradictory or incomplete supervision data. \n",
    "Overton automates the life cycle of model construction, deployment, and monitoring by providing a \n",
    "set of novel high-level, declarative abstractions. Overton's vision is to shift developers to \n",
    "these higher-level tasks instead of lower-level machine learning tasks. In fact, using Overton, \n",
    "engineers can build deep-learning-based applications without writing any code \n",
    "in frameworks like TensorFlow. For over a year, Overton has been used in production to support multiple \n",
    "applications in both near-real-time applications and back-of-house processing. \n",
    "In that time, Overton-based applications have answered billions of queries in multiple \n",
    "languages and processed trillions of records reducing errors 1.7-2.9 times versus production systems.\n",
    "\"\"\"):\n",
    "\n",
    "\n",
    "    input_ids = tokenizer.encode(\n",
    "        \"summarize: \" + abstract, return_tensors=\"pt\", add_special_tokens=True\n",
    "    )\n",
    "\n",
    "    generated_ids = model.generate(\n",
    "        input_ids=input_ids,\n",
    "        num_beams=5,\n",
    "        max_length=50,\n",
    "        repetition_penalty=2.5,\n",
    "        length_penalty=1,\n",
    "        early_stopping=True,\n",
    "        num_return_sequences=1,\n",
    "    )\n",
    "\n",
    "    preds = [\n",
    "        tokenizer.decode(g, skip_special_tokens=True, clean_up_tokenization_spaces=True)\n",
    "        for g in generated_ids\n",
    "    ]\n",
    "\n",
    "    return {\"task\": tokenizer.decode(generated_ids[0],skip_special_tokens=True, clean_up_tokenization_spaces=True)}\n"
   ]
  },
  {
   "cell_type": "code",
   "execution_count": 6,
   "metadata": {},
   "outputs": [
    {
     "data": {
      "text/plain": [
       "{'task': 'Overton: Building, Monitoring, and Improving Production Machine Learning Systems'}"
      ]
     },
     "execution_count": 6,
     "metadata": {},
     "output_type": "execute_result"
    }
   ],
   "source": [
    "Summarize()"
   ]
  },
  {
   "cell_type": "code",
   "execution_count": null,
   "metadata": {},
   "outputs": [],
   "source": []
  }
 ],
 "metadata": {
  "kernelspec": {
   "display_name": "Python 3",
   "language": "python",
   "name": "python3"
  },
  "language_info": {
   "codemirror_mode": {
    "name": "ipython",
    "version": 3
   },
   "file_extension": ".py",
   "mimetype": "text/x-python",
   "name": "python",
   "nbconvert_exporter": "python",
   "pygments_lexer": "ipython3",
   "version": "3.11.4"
  }
 },
 "nbformat": 4,
 "nbformat_minor": 2
}
